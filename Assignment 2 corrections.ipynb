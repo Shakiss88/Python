{
 "cells": [
  {
   "cell_type": "code",
   "execution_count": 13,
   "id": "056b2021",
   "metadata": {},
   "outputs": [
    {
     "name": "stdout",
     "output_type": "stream",
     "text": [
      "Enter your Insistitute nameHOPE AI\n"
     ]
    }
   ],
   "source": [
    "str=input(\"Enter your Insistitute name\")\n"
   ]
  },
  {
   "cell_type": "code",
   "execution_count": 14,
   "id": "55ac5112",
   "metadata": {},
   "outputs": [
    {
     "name": "stdout",
     "output_type": "stream",
     "text": [
      "Enter your age36\n"
     ]
    }
   ],
   "source": [
    "str=input(\"Enter your age\")\n"
   ]
  },
  {
   "cell_type": "code",
   "execution_count": 15,
   "id": "3f0f9836",
   "metadata": {},
   "outputs": [
    {
     "name": "stdout",
     "output_type": "stream",
     "text": [
      "Enter your school nameRCC\n"
     ]
    }
   ],
   "source": [
    "str=input(\"Enter your school name\")"
   ]
  },
  {
   "cell_type": "code",
   "execution_count": 16,
   "id": "d4e0506f",
   "metadata": {},
   "outputs": [
    {
     "name": "stdout",
     "output_type": "stream",
     "text": [
      "Enter your degreeBSC\n"
     ]
    }
   ],
   "source": [
    "str=input(\"Enter your degree\")"
   ]
  },
  {
   "cell_type": "code",
   "execution_count": 5,
   "id": "3cd2a472",
   "metadata": {},
   "outputs": [
    {
     "name": "stdout",
     "output_type": "stream",
     "text": [
      "a=43\n",
      "b=34\n",
      "add 77\n"
     ]
    }
   ],
   "source": [
    "a=int(input(\"a=\"))\n",
    "b=int(input(\"b=\"))\n",
    "print(\"add\",a+b)"
   ]
  },
  {
   "cell_type": "code",
   "execution_count": 1,
   "id": "1bcd01fe",
   "metadata": {},
   "outputs": [
    {
     "name": "stdout",
     "output_type": "stream",
     "text": [
      "a=43\n",
      "b=34\n",
      "sub 9\n"
     ]
    }
   ],
   "source": [
    "a=int(input(\"a=\"))\n",
    "b=int(input(\"b=\"))\n",
    "print(\"sub\",a-b)"
   ]
  },
  {
   "cell_type": "code",
   "execution_count": 2,
   "id": "ff96637f",
   "metadata": {},
   "outputs": [
    {
     "name": "stdout",
     "output_type": "stream",
     "text": [
      "a=63\n",
      "b=97\n",
      "mult 6111\n"
     ]
    }
   ],
   "source": [
    "a=int(input(\"a=\"))\n",
    "b=int(input(\"b=\"))\n",
    "print(\"mult\",a*b)"
   ]
  },
  {
   "cell_type": "code",
   "execution_count": 3,
   "id": "f6b40e9a",
   "metadata": {},
   "outputs": [
    {
     "name": "stdout",
     "output_type": "stream",
     "text": [
      "a=76\n",
      "b=31\n",
      "float div 2.4516129032258065\n"
     ]
    }
   ],
   "source": [
    "a=int(input(\"a=\"))\n",
    "b=int(input(\"b=\"))\n",
    "print(\"float div\",a/b)"
   ]
  },
  {
   "cell_type": "code",
   "execution_count": 4,
   "id": "4901edb4",
   "metadata": {},
   "outputs": [
    {
     "name": "stdout",
     "output_type": "stream",
     "text": [
      "a=76\n",
      "b=31\n",
      "floor div 2\n"
     ]
    }
   ],
   "source": [
    "a=int(input(\"a=\"))\n",
    "b=int(input(\"b=\"))\n",
    "print(\"floor div\",a//b)"
   ]
  },
  {
   "cell_type": "code",
   "execution_count": 5,
   "id": "a650282b",
   "metadata": {},
   "outputs": [
    {
     "name": "stdout",
     "output_type": "stream",
     "text": [
      "a=76\n",
      "b=31\n",
      "module 14\n"
     ]
    }
   ],
   "source": [
    "a=int(input(\"a=\"))\n",
    "b=int(input(\"b=\"))\n",
    "print(\"module\",a%b)"
   ]
  },
  {
   "cell_type": "code",
   "execution_count": 6,
   "id": "6b25e34e",
   "metadata": {},
   "outputs": [
    {
     "name": "stdout",
     "output_type": "stream",
     "text": [
      "a=4\n",
      "b=4\n",
      "power 256\n"
     ]
    }
   ],
   "source": [
    "a=int(input(\"a=\"))\n",
    "b=int(input(\"b=\"))\n",
    "print(\"power\",a**b)"
   ]
  },
  {
   "cell_type": "code",
   "execution_count": null,
   "id": "c90cde2e",
   "metadata": {},
   "outputs": [],
   "source": []
  }
 ],
 "metadata": {
  "kernelspec": {
   "display_name": "Python 3 (ipykernel)",
   "language": "python",
   "name": "python3"
  },
  "language_info": {
   "codemirror_mode": {
    "name": "ipython",
    "version": 3
   },
   "file_extension": ".py",
   "mimetype": "text/x-python",
   "name": "python",
   "nbconvert_exporter": "python",
   "pygments_lexer": "ipython3",
   "version": "3.11.5"
  }
 },
 "nbformat": 4,
 "nbformat_minor": 5
}
