{
 "cells": [
  {
   "cell_type": "code",
   "execution_count": 43,
   "id": "1adad8d3",
   "metadata": {},
   "outputs": [
    {
     "name": "stdout",
     "output_type": "stream",
     "text": [
      "Sub fields in AI. subfields\n"
     ]
    }
   ],
   "source": [
    "print(\"Sub fields in AI. subfields\")\n",
    "    "
   ]
  },
  {
   "cell_type": "code",
   "execution_count": 49,
   "id": "eb186602",
   "metadata": {},
   "outputs": [],
   "source": [
    "t=\"Sub fields in AI are :\"\n",
    "m=\"maching Learning\"\n",
    "n=\"Neural Learning\"\n",
    "v=\"Vision\"\n",
    "r=\"Robotics\"\n",
    "s=\"Speech processing\"\n",
    "n=\"Natural language processing\"\n",
    "lists=[t,m,n,v,r,s,n]\n",
    "def items():\n",
    "    for items in lists:\n",
    "        print(items)"
   ]
  },
  {
   "cell_type": "code",
   "execution_count": 50,
   "id": "4569c4db",
   "metadata": {},
   "outputs": [
    {
     "name": "stdout",
     "output_type": "stream",
     "text": [
      "Sub fields in AI are :\n",
      "maching Learning\n",
      "Natural language processing\n",
      "Vision\n",
      "Robotics\n",
      "Speech processing\n",
      "Natural language processing\n"
     ]
    }
   ],
   "source": [
    "items()"
   ]
  },
  {
   "cell_type": "code",
   "execution_count": 59,
   "id": "85ff2030",
   "metadata": {},
   "outputs": [],
   "source": [
    "def oddeven():\n",
    "    num=int(input(\"Enter a number : \"))\n",
    "    if((num%2)==1):\n",
    "        print(num,\"is Odd number\")\n",
    "        message=(\"Odd number\")\n",
    "    else:\n",
    "        print(num,\"is Even number\")\n",
    "        message=(\"Even number\")\n",
    "    return message\n"
   ]
  },
  {
   "cell_type": "code",
   "execution_count": 60,
   "id": "4d93a62b",
   "metadata": {},
   "outputs": [
    {
     "name": "stdout",
     "output_type": "stream",
     "text": [
      "Enter a number : 52452\n",
      "52452 is Even number\n"
     ]
    }
   ],
   "source": [
    "message=oddeven()"
   ]
  },
  {
   "cell_type": "code",
   "execution_count": 1,
   "id": "935c54f2",
   "metadata": {},
   "outputs": [
    {
     "name": "stdout",
     "output_type": "stream",
     "text": [
      "your Gender : Male\n",
      "Your age:18\n"
     ]
    },
    {
     "ename": "NameError",
     "evalue": "name 'male' is not defined",
     "output_type": "error",
     "traceback": [
      "\u001b[1;31m---------------------------------------------------------------------------\u001b[0m",
      "\u001b[1;31mNameError\u001b[0m                                 Traceback (most recent call last)",
      "Cell \u001b[1;32mIn[1], line 3\u001b[0m\n\u001b[0;32m      1\u001b[0m Gender\u001b[38;5;241m=\u001b[39m\u001b[38;5;28minput\u001b[39m(\u001b[38;5;124m\"\u001b[39m\u001b[38;5;124myour Gender : \u001b[39m\u001b[38;5;124m\"\u001b[39m)\n\u001b[0;32m      2\u001b[0m Age\u001b[38;5;241m=\u001b[39m\u001b[38;5;28mint\u001b[39m(\u001b[38;5;28minput\u001b[39m(\u001b[38;5;124m\"\u001b[39m\u001b[38;5;124mYour age:\u001b[39m\u001b[38;5;124m\"\u001b[39m))\n\u001b[1;32m----> 3\u001b[0m Eligiblity\u001b[38;5;241m=\u001b[39mmale\n\u001b[0;32m      4\u001b[0m Eligiblity1\u001b[38;5;241m=\u001b[39mFemale\n",
      "\u001b[1;31mNameError\u001b[0m: name 'male' is not defined"
     ]
    }
   ],
   "source": []
  },
  {
   "cell_type": "code",
   "execution_count": 31,
   "id": "a3abed37",
   "metadata": {},
   "outputs": [],
   "source": [
    "def eligliblity ():\n",
    "    Gender=input(\"your Gender : \")\n",
    "    age =int(input(\"Your age:\"))\n",
    "    eligiblity=\"male\"\n",
    "    eligiblity1=\"Female\"\n",
    "    if(Gender==eligiblity and (age>=21)):\n",
    "        print(\"Eligible\")\n",
    "        marriage=\"Eligible\"\n",
    "    elif(Gender==eligiblity1 and (age>=18)):    \n",
    "        pint(\"Eligible\")\n",
    "        marriage=\"Eligible\"\n",
    "    else:\n",
    "        print(\"Not Eligible\")\n",
    "        marriage=\"Not Eligible\"\n",
    "    return marriage\n"
   ]
  },
  {
   "cell_type": "code",
   "execution_count": 33,
   "id": "73bfded4",
   "metadata": {},
   "outputs": [
    {
     "name": "stdout",
     "output_type": "stream",
     "text": [
      "your Gender : male\n",
      "Your age:18\n",
      "Not Eligible\n"
     ]
    }
   ],
   "source": [
    "marriage=eligliblity()"
   ]
  },
  {
   "cell_type": "code",
   "execution_count": 6,
   "id": "f034a38e",
   "metadata": {},
   "outputs": [],
   "source": [
    "def addition ():\n",
    "    Subject1=int(input(\"Subject1 = \"))\n",
    "    Subject2=int(input(\"Subject2 = \"))\n",
    "    Subject3=int(input(\"Subject3 = \"))\n",
    "    Subject4=int(input(\"Subject4 =\"))\n",
    "    Subject5=int(input(\"Subject5 = \"))\n",
    "    add=Subject1+Subject2+Subject3+Subject4+Subject5\n",
    "    print(\"Total =\",add)        \n",
    "    percentage=add/5\n",
    "    print(\"percentage =\",percentage) "
   ]
  },
  {
   "cell_type": "code",
   "execution_count": 7,
   "id": "e54d2c33",
   "metadata": {},
   "outputs": [
    {
     "name": "stdout",
     "output_type": "stream",
     "text": [
      "Subject1 = 98\n",
      "Subject2 = 87\n",
      "Subject3 = 95\n",
      "Subject4 =95\n",
      "Subject5 = 93\n",
      "Total = 468\n",
      "percentage = 93.6\n"
     ]
    }
   ],
   "source": [
    "addition()"
   ]
  },
  {
   "cell_type": "code",
   "execution_count": 12,
   "id": "bcd0c21a",
   "metadata": {},
   "outputs": [],
   "source": [
    "def perimeter():\n",
    "    Height=int(input(\"Height:\"))\n",
    "    Breath=int(input(\"Breath: \"))\n",
    "    formula=(Height*Breath)/2\n",
    "    print(\"Area of Triangle :\",formula)\n",
    "    Height1=int(input(\"Height1:\"))\n",
    "    Height2=int(input(\"Height2:\"))\n",
    "    Breath1=int(input(\"Breath1: \"))\n",
    "    perimeterformula=Height1+Height2+Breath1\n",
    "    print(\"perimeter of triange :\",perimeterformula)\n",
    "    "
   ]
  },
  {
   "cell_type": "code",
   "execution_count": 13,
   "id": "afffddb4",
   "metadata": {},
   "outputs": [
    {
     "name": "stdout",
     "output_type": "stream",
     "text": [
      "Height:32\n",
      "Breath: 34\n",
      "Area of Triangle : 544.0\n",
      "Height1:2\n",
      "Height2:4\n",
      "Breath1: 4\n",
      "perimeter of triange : 10\n"
     ]
    }
   ],
   "source": [
    "perimeter()"
   ]
  },
  {
   "cell_type": "code",
   "execution_count": null,
   "id": "b674e763",
   "metadata": {},
   "outputs": [],
   "source": []
  }
 ],
 "metadata": {
  "kernelspec": {
   "display_name": "Python 3 (ipykernel)",
   "language": "python",
   "name": "python3"
  },
  "language_info": {
   "codemirror_mode": {
    "name": "ipython",
    "version": 3
   },
   "file_extension": ".py",
   "mimetype": "text/x-python",
   "name": "python",
   "nbconvert_exporter": "python",
   "pygments_lexer": "ipython3",
   "version": "3.11.5"
  }
 },
 "nbformat": 4,
 "nbformat_minor": 5
}
