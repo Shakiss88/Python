{
 "cells": [
  {
   "cell_type": "code",
   "execution_count": 1,
   "id": "c8934e5c",
   "metadata": {},
   "outputs": [
    {
     "name": "stdout",
     "output_type": "stream",
     "text": [
      "Body Mass Index\n"
     ]
    }
   ],
   "source": [
    "print(\"Body Mass Index\")\n"
   ]
  },
  {
   "cell_type": "code",
   "execution_count": 2,
   "id": "e8760e4c",
   "metadata": {},
   "outputs": [
    {
     "name": "stdout",
     "output_type": "stream",
     "text": [
      "Enter your Weight29\n",
      "Overweight\n"
     ]
    }
   ],
   "source": [
    "weight=int(input(\"Enter your Weight\"))\n",
    "if(weight<18.5):\n",
    "    print(\"Underweight\")\n",
    "elif(weight<=24.9):\n",
    "    print(\"Normal\")\n",
    "elif(weight<=29.9):\n",
    "    print(\"Overweight\")\n",
    "else:\n",
    "    print(Obese)"
   ]
  },
  {
   "cell_type": "code",
   "execution_count": null,
   "id": "7ba70461",
   "metadata": {},
   "outputs": [],
   "source": []
  },
  {
   "cell_type": "code",
   "execution_count": null,
   "id": "5dcc36a0",
   "metadata": {},
   "outputs": [],
   "source": []
  }
 ],
 "metadata": {
  "kernelspec": {
   "display_name": "Python 3 (ipykernel)",
   "language": "python",
   "name": "python3"
  },
  "language_info": {
   "codemirror_mode": {
    "name": "ipython",
    "version": 3
   },
   "file_extension": ".py",
   "mimetype": "text/x-python",
   "name": "python",
   "nbconvert_exporter": "python",
   "pygments_lexer": "ipython3",
   "version": "3.11.5"
  }
 },
 "nbformat": 4,
 "nbformat_minor": 5
}
