{
 "cells": [
  {
   "cell_type": "code",
   "execution_count": 4,
   "id": "4659c788",
   "metadata": {},
   "outputs": [
    {
     "name": "stdout",
     "output_type": "stream",
     "text": [
      "value: 10\n",
      "correct\n"
     ]
    }
   ],
   "source": [
    "i=10\n",
    "if i ==10:\n",
    "    print(\"value:\",i)\n",
    "    print(\"correct\")"
   ]
  },
  {
   "cell_type": "code",
   "execution_count": 10,
   "id": "3af88362",
   "metadata": {},
   "outputs": [
    {
     "name": "stdout",
     "output_type": "stream",
     "text": [
      "Enter your passwordHope@123\n",
      "Your password is correct\n"
     ]
    }
   ],
   "source": [
    "password='Hope@123'\n",
    "a=input(\"Enter your password\")\n",
    "if(a==password):\n",
    "    print(\"Your password is correct\")\n",
    "else:\n",
    "    print(\"your password is incorrect\")\n",
    " "
   ]
  },
  {
   "cell_type": "code",
   "execution_count": 14,
   "id": "e26d2652",
   "metadata": {},
   "outputs": [
    {
     "name": "stdout",
     "output_type": "stream",
     "text": [
      "Enter your age20\n",
      "Adult\n"
     ]
    }
   ],
   "source": [
    "age=int(input (\"Enter your age\"))\n",
    "if (age<10):\n",
    "    print(\"Children\")\n",
    "elif(age<30):\n",
    "    print(\"Adult\")\n",
    "elif(age<45):\n",
    "    print(\"Citizien\")\n",
    "else:\n",
    "    print(\"Senior citizen\")\n"
   ]
  },
  {
   "cell_type": "code",
   "execution_count": 17,
   "id": "be036df8",
   "metadata": {},
   "outputs": [
    {
     "name": "stdout",
     "output_type": "stream",
     "text": [
      "Enter any number :2\n",
      "No is positive\n"
     ]
    }
   ],
   "source": [
    "num=int(input(\"Enter any number :\"))\n",
    "if(num>0):\n",
    "    print(\"No is positive\")\n",
    "else:\n",
    "    print(\"No is Negative\")"
   ]
  },
  {
   "cell_type": "code",
   "execution_count": 19,
   "id": "51179081",
   "metadata": {},
   "outputs": [
    {
     "name": "stdout",
     "output_type": "stream",
     "text": [
      "Enter a number to check28\n",
      "No it is not divisble by 5\n"
     ]
    }
   ],
   "source": [
    "num=int(input(\"Enter a number to check\"))\n",
    "if(num%5==0):\n",
    "    print(\"This number is divisble by 5\")\n",
    "else:\n",
    "    print(\"No it is not divisble by 5\")"
   ]
  },
  {
   "cell_type": "code",
   "execution_count": null,
   "id": "a1dc39cc",
   "metadata": {},
   "outputs": [],
   "source": []
  }
 ],
 "metadata": {
  "kernelspec": {
   "display_name": "Python 3 (ipykernel)",
   "language": "python",
   "name": "python3"
  },
  "language_info": {
   "codemirror_mode": {
    "name": "ipython",
    "version": 3
   },
   "file_extension": ".py",
   "mimetype": "text/x-python",
   "name": "python",
   "nbconvert_exporter": "python",
   "pygments_lexer": "ipython3",
   "version": "3.11.5"
  }
 },
 "nbformat": 4,
 "nbformat_minor": 5
}
