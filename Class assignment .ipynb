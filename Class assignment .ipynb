{
 "cells": [
  {
   "cell_type": "code",
   "execution_count": 2,
   "id": "1d53c738",
   "metadata": {},
   "outputs": [
    {
     "name": "stdout",
     "output_type": "stream",
     "text": [
      "Sub fields in AI. subfields\n"
     ]
    }
   ],
   "source": [
    "from classassignemnt import practice"
   ]
  },
  {
   "cell_type": "code",
   "execution_count": 7,
   "id": "68fe3e5b",
   "metadata": {
    "scrolled": true
   },
   "outputs": [
    {
     "ename": "NameError",
     "evalue": "name 'practice' is not defined",
     "output_type": "error",
     "traceback": [
      "\u001b[1;31m---------------------------------------------------------------------------\u001b[0m",
      "\u001b[1;31mNameError\u001b[0m                                 Traceback (most recent call last)",
      "Cell \u001b[1;32mIn[7], line 1\u001b[0m\n\u001b[1;32m----> 1\u001b[0m practice\u001b[38;5;241m.\u001b[39mitems()\n",
      "\u001b[1;31mNameError\u001b[0m: name 'practice' is not defined"
     ]
    }
   ],
   "source": [
    "practice.items()"
   ]
  },
  {
   "cell_type": "code",
   "execution_count": 5,
   "id": "92068955",
   "metadata": {},
   "outputs": [
    {
     "name": "stdout",
     "output_type": "stream",
     "text": [
      "Enter a number : 2\n",
      "2 is Even number\n"
     ]
    },
    {
     "data": {
      "text/plain": [
       "'Even number'"
      ]
     },
     "execution_count": 5,
     "metadata": {},
     "output_type": "execute_result"
    }
   ],
   "source": [
    "practice.oddeven()"
   ]
  },
  {
   "cell_type": "code",
   "execution_count": 13,
   "id": "eec6fc80",
   "metadata": {},
   "outputs": [
    {
     "name": "stdout",
     "output_type": "stream",
     "text": [
      "your Gender : male\n",
      "Your age:18\n",
      "Not Eligible\n"
     ]
    },
    {
     "data": {
      "text/plain": [
       "'Not Eligible'"
      ]
     },
     "execution_count": 13,
     "metadata": {},
     "output_type": "execute_result"
    }
   ],
   "source": [
    "practice.eligliblity()"
   ]
  },
  {
   "cell_type": "code",
   "execution_count": 14,
   "id": "f84e4256",
   "metadata": {},
   "outputs": [
    {
     "name": "stdout",
     "output_type": "stream",
     "text": [
      "Subject1 = 98\n",
      "Subject2 = 95\n",
      "Subject3 = 95\n",
      "Subject4 =95\n",
      "Subject5 = 95\n",
      "Total = 478\n",
      "percentage = 95.6\n"
     ]
    }
   ],
   "source": [
    "practice.addition()"
   ]
  },
  {
   "cell_type": "code",
   "execution_count": 15,
   "id": "3eb69c88",
   "metadata": {},
   "outputs": [
    {
     "name": "stdout",
     "output_type": "stream",
     "text": [
      "Height:4\n",
      "Breath: 5\n",
      "Area of Triangle : 10.0\n",
      "Height1:2\n",
      "Height2:4\n",
      "Breath1: 5\n",
      "perimeter of triange : 11\n"
     ]
    }
   ],
   "source": [
    "practice.perimeter()"
   ]
  },
  {
   "cell_type": "code",
   "execution_count": null,
   "id": "5aec16f2",
   "metadata": {},
   "outputs": [],
   "source": []
  }
 ],
 "metadata": {
  "kernelspec": {
   "display_name": "Python 3 (ipykernel)",
   "language": "python",
   "name": "python3"
  },
  "language_info": {
   "codemirror_mode": {
    "name": "ipython",
    "version": 3
   },
   "file_extension": ".py",
   "mimetype": "text/x-python",
   "name": "python",
   "nbconvert_exporter": "python",
   "pygments_lexer": "ipython3",
   "version": "3.11.5"
  }
 },
 "nbformat": 4,
 "nbformat_minor": 5
}
