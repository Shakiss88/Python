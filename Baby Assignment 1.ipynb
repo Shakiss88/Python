{
 "cells": [
  {
   "cell_type": "code",
   "execution_count": 1,
   "id": "593f3ab5",
   "metadata": {},
   "outputs": [
    {
     "name": "stdout",
     "output_type": "stream",
     "text": [
      "Welcome to Assignment 1\n"
     ]
    }
   ],
   "source": [
    "print(\"Welcome to Assignment 1\")"
   ]
  },
  {
   "cell_type": "code",
   "execution_count": 4,
   "id": "97c7e6a7",
   "metadata": {},
   "outputs": [
    {
     "name": "stdout",
     "output_type": "stream",
     "text": [
      "num1=10\n",
      "num2=20\n",
      "add 30\n"
     ]
    }
   ],
   "source": [
    "num1=10\n",
    "print(\"num1=10\")\n",
    "num2=20\n",
    "print(\"num2=20\")\n",
    "print(\"add\",num1+num2)"
   ]
  },
  {
   "cell_type": "code",
   "execution_count": null,
   "id": "71d03d9a",
   "metadata": {},
   "outputs": [],
   "source": []
  },
  {
   "cell_type": "code",
   "execution_count": null,
   "id": "21d9e5a5",
   "metadata": {},
   "outputs": [],
   "source": []
  }
 ],
 "metadata": {
  "kernelspec": {
   "display_name": "Python 3 (ipykernel)",
   "language": "python",
   "name": "python3"
  },
  "language_info": {
   "codemirror_mode": {
    "name": "ipython",
    "version": 3
   },
   "file_extension": ".py",
   "mimetype": "text/x-python",
   "name": "python",
   "nbconvert_exporter": "python",
   "pygments_lexer": "ipython3",
   "version": "3.11.5"
  }
 },
 "nbformat": 4,
 "nbformat_minor": 5
}
