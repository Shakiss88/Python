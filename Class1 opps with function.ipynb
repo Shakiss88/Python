{
 "cells": [
  {
   "cell_type": "code",
   "execution_count": 30,
   "id": "223ab7de",
   "metadata": {},
   "outputs": [],
   "source": [
    "def Agecategory(): \n",
    "        if (CPT<99391):\n",
    "            print(\"0-1 year\")\n",
    "            Cate=\"0-1 year\"\n",
    "        elif(CPT==99392):\n",
    "            print(\"2-4 years\")\n",
    "            Cate=\"2-4years\"\n",
    "        elif(CPT==99393):\n",
    "            print(\"4-12 years\")\n",
    "            Cate=(\"4-12 years\")\n",
    "        elif(CPT==99394):\n",
    "            print(\"13-28 years\")\n",
    "            Cate=(\"13-28 years\")\n",
    "        else:\n",
    "            print(\"50 above years\")\n",
    "            Cate=(\"50 above years\")\n",
    "        return Cate"
   ]
  },
  {
   "cell_type": "code",
   "execution_count": 31,
   "id": "3c1a1f68",
   "metadata": {},
   "outputs": [
    {
     "name": "stdout",
     "output_type": "stream",
     "text": [
      "Enter your CPT 99391\n",
      "50 above years\n"
     ]
    }
   ],
   "source": [
    "CPT=int(input(\"Enter your CPT \"))\n",
    "Cate=Agecategory()"
   ]
  },
  {
   "cell_type": "code",
   "execution_count": 27,
   "id": "b8af5399",
   "metadata": {},
   "outputs": [
    {
     "name": "stdout",
     "output_type": "stream",
     "text": [
      "Enter your CPT 99391\n",
      "50 above years\n"
     ]
    }
   ],
   "source": [
    "CPT1=int(input(\"Enter your CPT \"))\n",
    "Cate=Agecategory()"
   ]
  },
  {
   "cell_type": "code",
   "execution_count": 29,
   "id": "a2d696ac",
   "metadata": {},
   "outputs": [
    {
     "name": "stdout",
     "output_type": "stream",
     "text": [
      "Enter your CPT 99391\n",
      "50 above years\n"
     ]
    }
   ],
   "source": [
    "CPT2=int(input(\"Enter your CPT \"))\n",
    "Cate=Agecategory()"
   ]
  },
  {
   "cell_type": "code",
   "execution_count": 34,
   "id": "8dc55e4c",
   "metadata": {},
   "outputs": [],
   "source": [
    "def oddeven():\n",
    "    num=int(input(\"Enter your number\"))\n",
    "    if((num%2)==1):\n",
    "        print(\"Odd number\")\n",
    "        message=(\"Odd number\")\n",
    "    else:\n",
    "        print(\"Even number\")\n",
    "        message=(\"Even number\")\n",
    "    return message"
   ]
  },
  {
   "cell_type": "code",
   "execution_count": 37,
   "id": "7632f54b",
   "metadata": {},
   "outputs": [
    {
     "name": "stdout",
     "output_type": "stream",
     "text": [
      "Enter your number10\n",
      "Even number\n"
     ]
    }
   ],
   "source": [
    "message=oddeven()"
   ]
  },
  {
   "cell_type": "code",
   "execution_count": 38,
   "id": "c98cfc38",
   "metadata": {},
   "outputs": [
    {
     "name": "stdout",
     "output_type": "stream",
     "text": [
      "The given number is Even number\n"
     ]
    }
   ],
   "source": [
    "if(message==\"Even number\"):\n",
    "    print(\"The given number is Even number\")\n",
    "else:\n",
    "    print(\"The given number is Odd number\")"
   ]
  },
  {
   "cell_type": "code",
   "execution_count": 39,
   "id": "81de9948",
   "metadata": {},
   "outputs": [],
   "source": [
    "def BMI():\n",
    "    BMI=int(input(\"Enter your BMI\"))\n",
    "    if(BMI<18.5):\n",
    "        print(\"Underweight\")\n",
    "        message=\"Under weight\"\n",
    "    elif(BMI<=24.9):\n",
    "        print(\"Normal\")\n",
    "        message=\"Normal\"\n",
    "    elif(BMI<=29.9):\n",
    "        print(\"veryOverweight\")\n",
    "        message=\"Very overweight\"\n",
    "    else:\n",
    "        print(\"Obese\")\n",
    "        message=\"Obese\"\n",
    "    return message   "
   ]
  },
  {
   "cell_type": "code",
   "execution_count": 43,
   "id": "555da1e5",
   "metadata": {},
   "outputs": [
    {
     "name": "stdout",
     "output_type": "stream",
     "text": [
      "Enter your BMI10\n",
      "Underweight\n"
     ]
    }
   ],
   "source": [
    "message=BMI()"
   ]
  },
  {
   "cell_type": "code",
   "execution_count": 44,
   "id": "d0f5fbd6",
   "metadata": {},
   "outputs": [],
   "source": [
    "def addition (num1,num2):\n",
    "    add=num1+num2\n",
    "    return add"
   ]
  },
  {
   "cell_type": "code",
   "execution_count": 47,
   "id": "e9c7bb3b",
   "metadata": {},
   "outputs": [
    {
     "data": {
      "text/plain": [
       "15"
      ]
     },
     "execution_count": 47,
     "metadata": {},
     "output_type": "execute_result"
    }
   ],
   "source": [
    "addition(10,5)"
   ]
  },
  {
   "cell_type": "code",
   "execution_count": 65,
   "id": "124a1da3",
   "metadata": {},
   "outputs": [],
   "source": [
    "def addition (num1,num2):\n",
    "    add=num1+num2\n",
    "    return add"
   ]
  },
  {
   "cell_type": "code",
   "execution_count": 68,
   "id": "2a5138bb",
   "metadata": {},
   "outputs": [
    {
     "data": {
      "text/plain": [
       "15"
      ]
     },
     "execution_count": 68,
     "metadata": {},
     "output_type": "execute_result"
    }
   ],
   "source": [
    "addition(5,10)"
   ]
  },
  {
   "cell_type": "code",
   "execution_count": 72,
   "id": "ea62bb8d",
   "metadata": {},
   "outputs": [],
   "source": [
    "def addition():\n",
    "    add1=int(input(\"Enter your number\"))\n",
    "    add2=int(input(\"Enter your number 2\"))\n",
    "    add=add1+add2\n",
    "    return add"
   ]
  },
  {
   "cell_type": "code",
   "execution_count": 73,
   "id": "36624d14",
   "metadata": {},
   "outputs": [
    {
     "name": "stdout",
     "output_type": "stream",
     "text": [
      "Enter your number5\n",
      "Enter your number 210\n"
     ]
    },
    {
     "data": {
      "text/plain": [
       "15"
      ]
     },
     "execution_count": 73,
     "metadata": {},
     "output_type": "execute_result"
    }
   ],
   "source": [
    "addition()"
   ]
  },
  {
   "cell_type": "code",
   "execution_count": 74,
   "id": "e04a3f46",
   "metadata": {},
   "outputs": [],
   "source": [
    "def subtraction(num1,num2):\n",
    "    sub=num1-num2\n",
    "    return sub"
   ]
  },
  {
   "cell_type": "code",
   "execution_count": 76,
   "id": "b1bd6ef2",
   "metadata": {},
   "outputs": [
    {
     "data": {
      "text/plain": [
       "5"
      ]
     },
     "execution_count": 76,
     "metadata": {},
     "output_type": "execute_result"
    }
   ],
   "source": [
    "subtraction(10,5)"
   ]
  },
  {
   "cell_type": "code",
   "execution_count": 3,
   "id": "d6b8c206",
   "metadata": {},
   "outputs": [
    {
     "ename": "SyntaxError",
     "evalue": "'return' outside function (2078509717.py, line 11)",
     "output_type": "error",
     "traceback": [
      "\u001b[1;36m  Cell \u001b[1;32mIn[3], line 11\u001b[1;36m\u001b[0m\n\u001b[1;33m    return message\u001b[0m\n\u001b[1;37m    ^\u001b[0m\n\u001b[1;31mSyntaxError\u001b[0m\u001b[1;31m:\u001b[0m 'return' outside function\n"
     ]
    }
   ],
   "source": [
    "class mulitpleFunctions():\n",
    "    def oddeven():\n",
    "        num=int(input(\"Enter your number\"))\n",
    "    if((num%2)==1):\n",
    "        print(\"Odd number\")\n",
    "        message=(\"Odd number\")\n",
    "    else:\n",
    "        print(\"Even number\")\n",
    "        message=(\"Even number\")\n",
    "        \n",
    "        return message\n",
    "        \n",
    "    def BMI():\n",
    "        BMI=int(input(\"Enter your BMI\"))\n",
    "    if(BMI<18.5):\n",
    "        print(\"Underweight\")\n",
    "        message=\"Under weight\"\n",
    "    elif(BMI<=24.9):\n",
    "        print(\"Normal\")\n",
    "        message=\"Normal\"\n",
    "    elif(BMI<=29.9):\n",
    "        print(\"veryOverweight\")\n",
    "        message=\"Very overweight\"\n",
    "    else:\n",
    "        print(\"Obese\")\n",
    "        message=\"Obese\"\n",
    "        \n",
    "        return message    "
   ]
  },
  {
   "cell_type": "code",
   "execution_count": 1,
   "id": "2d2319a5",
   "metadata": {},
   "outputs": [
    {
     "ename": "NameError",
     "evalue": "name 'mulitpleFunctions' is not defined",
     "output_type": "error",
     "traceback": [
      "\u001b[1;31m---------------------------------------------------------------------------\u001b[0m",
      "\u001b[1;31mNameError\u001b[0m                                 Traceback (most recent call last)",
      "Cell \u001b[1;32mIn[1], line 1\u001b[0m\n\u001b[1;32m----> 1\u001b[0m mulitpleFunctions\u001b[38;5;241m.\u001b[39mBMI()\n",
      "\u001b[1;31mNameError\u001b[0m: name 'mulitpleFunctions' is not defined"
     ]
    }
   ],
   "source": [
    "mulitpleFunctions.BMI()"
   ]
  },
  {
   "cell_type": "code",
   "execution_count": null,
   "id": "97fc4c96",
   "metadata": {},
   "outputs": [],
   "source": []
  }
 ],
 "metadata": {
  "kernelspec": {
   "display_name": "Python 3 (ipykernel)",
   "language": "python",
   "name": "python3"
  },
  "language_info": {
   "codemirror_mode": {
    "name": "ipython",
    "version": 3
   },
   "file_extension": ".py",
   "mimetype": "text/x-python",
   "name": "python",
   "nbconvert_exporter": "python",
   "pygments_lexer": "ipython3",
   "version": "3.11.5"
  }
 },
 "nbformat": 4,
 "nbformat_minor": 5
}
